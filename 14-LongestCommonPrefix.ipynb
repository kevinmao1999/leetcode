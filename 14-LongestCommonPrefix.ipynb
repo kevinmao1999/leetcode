{
 "cells": [
  {
   "cell_type": "markdown",
   "metadata": {},
   "source": [
    "# 14. Longest Common Prefix\n",
    "Write a function to find the longest common prefix string amongst an array of strings.\\\n",
    "If there is no common prefix, return an empty string \"\".\n",
    "\n",
    "### Example 1:\n",
    "Input: `strs = [\"flower\",\"flow\",\"flight\"]`\\\n",
    "Output: `\"fl\"`\n",
    "\n",
    "### Example 2:\n",
    "Input: `strs = [\"dog\",\"racecar\",\"car\"]`\\\n",
    "Output: `\"\"`\\\n",
    "Explanation: There is no common prefix among the input strings.\n",
    "\n",
    "### Constraints:\n",
    "`1 <= strs.length <= 200`\\\n",
    "`0 <= strs[i].length <= 200`\\\n",
    "`strs[i]` consists of only lowercase English letters.\n",
    "\n"
   ]
  },
  {
   "cell_type": "markdown",
   "metadata": {},
   "source": [
    "## Solution1\n",
    "- My solution consists of a nested loop.\n",
    "- We loop over each letter in the 1st word.\n",
    "    - For each loop, we run a second loop for each other word in our list.\n",
    "        - In each loop, if the current letter from the 1st word exists in the same spot of the other words, it is a part of the common prefix and we add it to a saved variable.\n",
    "        - If the current letter does not exist, we return what saved prefix we have so far.\n",
    "    - After each iteration of the inner loop, we would only get to here if we have not returned already, meaning that we can safely add the current letter to the saved prefix.\n",
    "- This code runs in O(n * m) time where n is number of strings and m is length of the longest string in the list as it requires loops over the entirety of the list of words."
   ]
  },
  {
   "cell_type": "code",
   "execution_count": null,
   "metadata": {},
   "outputs": [
    {
     "name": "stdout",
     "output_type": "stream",
     "text": [
      "str1: \"fl\"\n",
      "str1: \"\"\n",
      "str1: \"chicken\"\n",
      "str1: \"\"\n"
     ]
    }
   ],
   "source": [
    "from typing import List\n",
    "\n",
    "class Solution:\n",
    "    def longestCommonPrefix(self, strs: List[str]) -> str:\n",
    "        # if list is empty return empty string\n",
    "        if not strs:\n",
    "            return \"\"\n",
    "        if (len(strs)) == 1:\n",
    "            return strs[0]\n",
    "        \n",
    "        prefix = \"\"\n",
    "        first = strs[0]\n",
    "\n",
    "        # loop for each letter in `first`\n",
    "        for i in range(len(first)):\n",
    "            # loop for each word in list (ignoring `first`)\n",
    "            for j in range(1, len(strs)):\n",
    "                # for each word, if i'th letter does not match i'th letter in `first`, return `prefix` found so far\n",
    "                if strs[j][i] != first[i]:\n",
    "                    return prefix\n",
    "            # if each word contains this letter, add it to `prefix`\n",
    "            prefix += first[i]\n",
    "        return prefix\n",
    "    \n",
    "strs1 = [\"flower\",\"flow\",\"flight\"]\n",
    "strs2 = [\"dog\",\"racecar\",\"car\"]\n",
    "strs3 = [\"chicken\"]\n",
    "strs4 = []\n",
    "\n",
    "solution = Solution()\n",
    "print(f\"str1: \\\"{solution.longestCommonPrefix(strs1)}\\\"\")\n",
    "print(f\"str1: \\\"{solution.longestCommonPrefix(strs2)}\\\"\")\n",
    "print(f\"str1: \\\"{solution.longestCommonPrefix(strs3)}\\\"\")\n",
    "print(f\"str1: \\\"{solution.longestCommonPrefix(strs4)}\\\"\")"
   ]
  },
  {
   "cell_type": "markdown",
   "metadata": {},
   "source": [
    "## Solution2\n",
    "- A potentially more optimal solution involves a binary-search-like process where we get the length of the shortest word in the list.\n",
    "    - We do this because the shortest word in the list is also the longest prefix potentially possible.\n",
    "- The shortest word is then divided in half so we begin from the middle point of it.\n",
    "    -  We first get a low point (which starts at 1 because we initially look for a 1-character common prefix) and a high point (which starts at the length of the shortest word, the longest possible common prefix)\n",
    "    - We do this so we use the shortest amount of attempts possible to derive the prefix from this word.\n",
    "        - In Solution1 we began from the very beginning; if the shortest word was 4 letters long it would take potentially 4 loops to find. In this case we can begin from the 2nd letter and just require 2 loops.\n",
    "- From here, we use the middle value of the shortest word and slice that many letters off the 1st word in our list.\n",
    "    - If the letters left match the prefixes of the other words, we can repeat this process with 1 less sliced letter. (potential prefix lengthened)\n",
    "    - If the letters left DO NOT match the prefixes of the other words, we can repeat this process with 1 more sliced letter. (potential prefix shortened)\n",
    "- We should repeat this process until our low and high value converge, meaning that `(low+high)//2` will give us the length of the longest common prefix.\n",
    "- This runs in O(log m * m * n) time when n is the sum of all characters in all strings and m is the number of strings, a potential improvement over Solution1.\n",
    "    - This should be more efficient when the data reaches a reasonable size, although Solution1 may still be better on very small amounts of data."
   ]
  },
  {
   "cell_type": "code",
   "execution_count": 16,
   "metadata": {},
   "outputs": [
    {
     "name": "stdout",
     "output_type": "stream",
     "text": [
      "str1: \"fl\"\n",
      "str1: \"\"\n",
      "str1: \"chicken\"\n",
      "str1: \"\"\n"
     ]
    }
   ],
   "source": [
    "from typing import List\n",
    "\n",
    "class Solution:\n",
    "    def longestCommonPrefix(self, strs: List[str]) -> str:\n",
    "        # if list is empty return empty string\n",
    "        if not strs:\n",
    "            return \"\"\n",
    "        if len(strs) == 1:\n",
    "            return strs[0]\n",
    "        \n",
    "        # get length of shortest word in list\n",
    "        minLen = min(len(x) for x in strs)\n",
    "        low, high = 1, minLen\n",
    "        # do a binary-search-like process where we loop as long as our low-point is less than or equal to our high-point\n",
    "        while low <= high:\n",
    "            # calculate the middle point to start at, to minimize the amount of loops we potentially need\n",
    "            middle = (low + high) // 2\n",
    "            # if the 1st half of the shortest word is in the list exists as the list prefix, increase the prefix\n",
    "            if self.isCommonPrefix(strs, middle):\n",
    "                low = middle + 1\n",
    "            # if the 1st half of the shortest word is NOT in the list exists as the list prefix, decrease the prefix\n",
    "            else:\n",
    "                high = middle - 1\n",
    "        return strs[0][: (low + high) // 2]\n",
    "\n",
    "    # given an index to slice at, we check if the non-sliced part of 1st string of our list is the prefix for all other elements of the list\n",
    "    def isCommonPrefix(self, strs, l):\n",
    "        str1 = strs[0][:l]\n",
    "        for i in range(1, len(strs)):\n",
    "            if not strs[i].startswith(str1):\n",
    "                return False\n",
    "        return True\n",
    "    \n",
    "strs1 = [\"flower\",\"flow\",\"flight\"]\n",
    "strs2 = [\"dog\",\"racecar\",\"car\"]\n",
    "strs3 = [\"chicken\"]\n",
    "strs4 = []\n",
    "\n",
    "solution = Solution()\n",
    "print(f\"str1: \\\"{solution.longestCommonPrefix(strs1)}\\\"\")\n",
    "print(f\"str1: \\\"{solution.longestCommonPrefix(strs2)}\\\"\")\n",
    "print(f\"str1: \\\"{solution.longestCommonPrefix(strs3)}\\\"\")\n",
    "print(f\"str1: \\\"{solution.longestCommonPrefix(strs4)}\\\"\")"
   ]
  }
 ],
 "metadata": {
  "kernelspec": {
   "display_name": "Python 3",
   "language": "python",
   "name": "python3"
  },
  "language_info": {
   "codemirror_mode": {
    "name": "ipython",
    "version": 3
   },
   "file_extension": ".py",
   "mimetype": "text/x-python",
   "name": "python",
   "nbconvert_exporter": "python",
   "pygments_lexer": "ipython3",
   "version": "3.12.1"
  }
 },
 "nbformat": 4,
 "nbformat_minor": 2
}
