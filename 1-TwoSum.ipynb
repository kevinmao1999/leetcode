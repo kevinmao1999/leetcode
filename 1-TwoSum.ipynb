{
 "cells": [
  {
   "cell_type": "markdown",
   "metadata": {},
   "source": [
    "# 1. Two Sum\n",
    "Given an array of integers nums and an integer target, return indices of the two numbers such that they add up to target.\\\n",
    "You may assume that each input would have exactly one solution, and you may not use the same element twice.\\\n",
    "You can return the answer in any order.\n",
    "\n",
    "### Example 1:\n",
    "Input: `nums = [2,7,11,15]`, `target = 9`\\\n",
    "Output: `[0,1]`\\\n",
    "Explanation: Because `nums[0] + nums[1] == 9`, we return `[0, 1]`.\n",
    "\n",
    "### Example 2:\n",
    "Input: `nums = [3,2,4]`, `target = 6`\\\n",
    "Output: `[1,2]`\n",
    "\n",
    "### Example 3:\n",
    "Input: `nums = [3,3]`, `target = 6`\\\n",
    "Output: `[0,1]`\n",
    "\n",
    "### Constraints:\n",
    "`2 <= nums.length <= 104`\\\n",
    "`-109 <= nums[i] <= 109`\\\n",
    "`-109 <= target <= 109`\\\n",
    "Only one valid answer exists.\\\n",
    "\n",
    "Follow-up: Can you come up with an algorithm that is less than O(n2) time complexity?"
   ]
  },
  {
   "cell_type": "markdown",
   "metadata": {},
   "source": [
    "## Solution1\n",
    "- Solution1 loops over each element in the list, then does a second nested loop to check if values add up.\n",
    "- This results in O(n^2) time complexity caused by the nested loop."
   ]
  },
  {
   "cell_type": "code",
   "execution_count": 1,
   "metadata": {},
   "outputs": [
    {
     "name": "stdout",
     "output_type": "stream",
     "text": [
      "1: [0, 1]\n",
      "2: [1, 2]\n",
      "3: [0, 1]\n"
     ]
    }
   ],
   "source": [
    "from typing import List\n",
    "\n",
    "class Solution:\n",
    "    def twoSum(self, nums: List[int], target: int) -> List[int]:\n",
    "        for i in range(len(nums)):\n",
    "            for j in range(i+1, len(nums)):\n",
    "                if nums[i] + nums[j] == target:\n",
    "                    return [i, j]\n",
    "\n",
    "solution = Solution()\n",
    "print(f\"1: {solution.twoSum([2,7,11,15], 9)}\")\n",
    "print(f\"2: {solution.twoSum([3,2,4], 6)}\")\n",
    "print(f\"3: {solution.twoSum([3,3], 6)}\")"
   ]
  },
  {
   "cell_type": "markdown",
   "metadata": {},
   "source": [
    "## Solution2\n",
    "- Solution2 loops over each element in the list only once, mapping them to a dictionary with the index as their values.\n",
    "- Then, we run a second separate loop on each item in the list, searching for the opposite needed value from the dictionary.\n",
    "- The two separate loops result in O(n) runtime as we run two separate loops instead of a nested loop."
   ]
  },
  {
   "cell_type": "code",
   "execution_count": 2,
   "metadata": {},
   "outputs": [
    {
     "name": "stdout",
     "output_type": "stream",
     "text": [
      "1: [0, 1]\n",
      "2: [1, 2]\n",
      "3: [0, 1]\n"
     ]
    }
   ],
   "source": [
    "from typing import List\n",
    "\n",
    "class Solution:\n",
    "    def twoSum(self, nums: List[int], target: int) -> List[int]:\n",
    "        mydict = {}\n",
    "        for i in range(len(nums)):\n",
    "            mydict[nums[i]] = i\n",
    "        for i in range(len(nums)):\n",
    "            val = target - nums[i]\n",
    "            if val in mydict and mydict[val] != i:\n",
    "                return [i, mydict[val]]\n",
    "        return []\n",
    "    \n",
    "solution = Solution()\n",
    "print(f\"1: {solution.twoSum([2,7,11,15], 9)}\")\n",
    "print(f\"2: {solution.twoSum([3,2,4], 6)}\")\n",
    "print(f\"3: {solution.twoSum([3,3], 6)}\")"
   ]
  }
 ],
 "metadata": {
  "kernelspec": {
   "display_name": "Python 3",
   "language": "python",
   "name": "python3"
  },
  "language_info": {
   "codemirror_mode": {
    "name": "ipython",
    "version": 3
   },
   "file_extension": ".py",
   "mimetype": "text/x-python",
   "name": "python",
   "nbconvert_exporter": "python",
   "pygments_lexer": "ipython3",
   "version": "3.12.1"
  }
 },
 "nbformat": 4,
 "nbformat_minor": 2
}
