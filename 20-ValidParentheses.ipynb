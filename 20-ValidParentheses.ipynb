{
 "cells": [
  {
   "cell_type": "markdown",
   "metadata": {},
   "source": [
    "# 20. Valid Parentheses\n",
    "Given a string s containing just the characters '(', ')', '{', '}', '[' and ']', determine if the input string is valid.\n",
    "\n",
    "An input string is valid if:\n",
    "- Open brackets must be closed by the same type of brackets.\n",
    "- Open brackets must be closed in the correct order.\n",
    "- Every close bracket has a corresponding open bracket of the same type.\n",
    "\n",
    "### Example 1:\n",
    "Input: `s = \"()\"`\\\n",
    "Output: `true`\n",
    "\n",
    "### Example 2:\n",
    "Input: `s = \"()[]{}\"`\\\n",
    "Output: `true`\n",
    "\n",
    "### Example 3:\n",
    "Input: `s = \"(]\"`\\\n",
    "Output: `false`\n",
    "\n",
    "### Example 4:\n",
    "Input: `s = \"([])\"`\\\n",
    "Output: `true`\n",
    "\n",
    "### Constraints:\n",
    "`1 <= s.length <= 104`\\\n",
    "`s` consists of parentheses only `'()[]{}'`."
   ]
  },
  {
   "cell_type": "markdown",
   "metadata": {},
   "source": [
    "## Solution1\n",
    "- My solution involves creating a second string, `order`, that holds opening parentheses that are received.\n",
    "- We run a loop over all characters of our argument string, running a switch statement one each.\n",
    "    - If we receive an opening parenthesis, we prepend it to our `order`.\n",
    "    - If we receive a closing parenthesis, we need to run some checks:\n",
    "        - We are expecting the least recent opening to be closed (the very 1st in order, since we prepended). If we find a non-matching closing parenthesis, or if there was no opening parenthesis at all (`order` is empty) return False immediately.\n",
    "        - If we find a matching closing parenthesis, we can remove it by slicing from the string and continuing to the next character.\n",
    "- If by the end we have gone through the entire string, we need to do one last check to ensure there are no un-closed parentheses (`order` is not empty). If so, return True. Otherwise return False.\n",
    "- This runs in O(n) time as we run one loop over the string."
   ]
  },
  {
   "cell_type": "code",
   "execution_count": null,
   "metadata": {},
   "outputs": [
    {
     "name": "stdout",
     "output_type": "stream",
     "text": [
      "s1: \"True\"\n",
      "s2: \"True\"\n",
      "s3: \"False\"\n",
      "s4: \"True\"\n",
      "s5: \"False\"\n"
     ]
    }
   ],
   "source": [
    "class Solution:\n",
    "    def isValid(self, s: str) -> bool:\n",
    "        # order str that tracks proper order of addition/removals\n",
    "        order = \"\"\n",
    "\n",
    "        # loop over each character in the string and run a switch statement\n",
    "        # if an opening is found, track it in `order`\n",
    "        # if a closing is found, if `order` has no matching opening, return False\n",
    "        # if it is a valid closing, slice off the matched opening from `order`\n",
    "        for char in s:\n",
    "            match char:\n",
    "                case \"(\":\n",
    "                    order = \"(\" + order\n",
    "                case \")\":\n",
    "                    if not order or order[0] != \"(\":\n",
    "                        return False\n",
    "                    order = order[1:]\n",
    "                case \"{\":\n",
    "                    order = \"{\" + order\n",
    "                case \"}\":\n",
    "                    if not order or order[0] != \"{\":\n",
    "                        return False\n",
    "                    order = order[1:]\n",
    "                case \"[\":\n",
    "                    order = \"[\" + order\n",
    "                case \"]\":\n",
    "                    if not order or order[0] != \"[\":\n",
    "                        return False\n",
    "                    order = order[1:]\n",
    "        if order:\n",
    "            return False\n",
    "        return True\n",
    "\n",
    "\n",
    "s1 = \"()\"\n",
    "s2 = \"()[]{}\"\n",
    "s3 = \"(]\"\n",
    "s4 = \"([])\"\n",
    "s5 = \"([)]\"\n",
    "\n",
    "solution = Solution()\n",
    "print(f\"s1: \\\"{solution.isValid(s1)}\\\"\")\n",
    "print(f\"s2: \\\"{solution.isValid(s2)}\\\"\")\n",
    "print(f\"s3: \\\"{solution.isValid(s3)}\\\"\")\n",
    "print(f\"s4: \\\"{solution.isValid(s4)}\\\"\")\n",
    "print(f\"s5: \\\"{solution.isValid(s5)}\\\"\")"
   ]
  },
  {
   "cell_type": "markdown",
   "metadata": {},
   "source": [
    "## Solution2\n",
    "- A slightly more optimal solution uses a similar process, but instead of using a string to track the order of parentheses, we can use a list.\n",
    "- The list represents a stack, (FIFO) where if we encounter openings, we append.\n",
    "- If we encounter closings, we check if the stack exists and has matching opening in the most recently appended element. (the end)\n",
    "- This solution also runs in O(n) time and uses the same logic but this one does so a bit more quickly, as the way I was manipulating the string was a bit clunky."
   ]
  },
  {
   "cell_type": "code",
   "execution_count": null,
   "metadata": {},
   "outputs": [],
   "source": [
    "class Solution:\n",
    "    def isValid(self, s: str) -> bool:\n",
    "        stack = []\n",
    "\n",
    "        for char in s:\n",
    "            # if an opening is encountered, append it to the back of our stack\n",
    "            if char in [\"(\", \"{\", \"[\"]:\n",
    "                stack.append(char)\n",
    "            # if a closing is encountered, if our stack has not-empty and last element is matching closer, pop the last element from the stack\n",
    "            elif char == \")\" and stack and stack[-1] == \"(\":\n",
    "                stack.pop()\n",
    "            elif char == \"}\" and stack and stack[-1] == \"{\":\n",
    "                stack.pop()\n",
    "            elif char == \"]\" and stack and stack[-1] == \"[\":\n",
    "                stack.pop()\n",
    "            else:\n",
    "                return False\n",
    "        return stack == []"
   ]
  }
 ],
 "metadata": {
  "kernelspec": {
   "display_name": "Python 3",
   "language": "python",
   "name": "python3"
  },
  "language_info": {
   "codemirror_mode": {
    "name": "ipython",
    "version": 3
   },
   "file_extension": ".py",
   "mimetype": "text/x-python",
   "name": "python",
   "nbconvert_exporter": "python",
   "pygments_lexer": "ipython3",
   "version": "3.12.1"
  }
 },
 "nbformat": 4,
 "nbformat_minor": 2
}
