{
 "cells": [
  {
   "cell_type": "markdown",
   "metadata": {},
   "source": [
    "# 9. Palindrome Number\n",
    "Given an integer x, return true if x is a palindrome, and false otherwise.\n",
    "\n",
    "### Example 1:\n",
    "Input: `x = 121`\\\n",
    "Output: `True`\\\n",
    "Explanation: 121 reads as 121 from left to right and from right to left.\n",
    "\n",
    "### Example 2:\n",
    "Input: `x = -121``\n",
    "Output: `False``\n",
    "Explanation: From left to right, it reads -121. From right to left, it becomes 121-. Therefore it is not a palindrome.\n",
    "\n",
    "### Example 3:\n",
    "Input: `x = 10`\\\n",
    "Output: `False`\\\n",
    "Explanation: Reads 01 from right to left. Therefore it is not a palindrome.\n",
    "\n",
    "### Constraints:\n",
    "`-231 <= x <= 231 - 1`\n",
    "\n",
    "Follow up: Could you solve it without converting the integer to a string?"
   ]
  },
  {
   "cell_type": "markdown",
   "metadata": {},
   "source": [
    "## Solution1\n",
    "- Solution1 converts the integer into a string first.\n",
    "- From there, we run a loop to compare characters at the beginning of the string to the inverse character at the end.\n",
    "- This runs in O(n) time, requiring to loop once over each character in the string."
   ]
  },
  {
   "cell_type": "code",
   "execution_count": 1,
   "metadata": {},
   "outputs": [
    {
     "name": "stdout",
     "output_type": "stream",
     "text": [
      "121: True\n",
      "-121: False\n",
      "10: False\n"
     ]
    }
   ],
   "source": [
    "class Solution:\n",
    "    # solution1 converts to a string then runs a loop to compare chars to the opposite char based on index\n",
    "    # runs in O(n) time, needing one loop over each char\n",
    "    def isPalindrome(self, x: int) -> bool:\n",
    "        string = str(x)\n",
    "        length = len(string)\n",
    "\n",
    "        # for each char in the converted int, if it is not equal to the char on the opposite side, return False\n",
    "        for i in range(length):\n",
    "            if string[i] != string[length-1-i]:\n",
    "                return False\n",
    "        return True\n",
    "    \n",
    "solution = Solution()\n",
    "print(f\"121: {solution.isPalindrome(121)}\")\n",
    "print(f\"-121: {solution.isPalindrome(-121)}\")\n",
    "print(f\"10: {solution.isPalindrome(10)}\")"
   ]
  },
  {
   "cell_type": "markdown",
   "metadata": {},
   "source": [
    "## Solution2\n",
    "- Solution2 doesn't convert the integer into a string, but instead directly manipulates the integer.\n",
    "- The process involves reversing the integer and checking if the reverse matches, however since both sides should be the same, we really only need to check one half of the number.\n",
    "- `rev = rev * 10 + x % 10` initially results in `rev` getting the last digit of the initial integer.\n",
    "    - Once `rev` already gets a value, running that operation another time results in `rev`'s current value getting multiplied by 10 to move it to the left one digit, then placing the new value in the one's spot.\n",
    "    - Once that is run, we can also run `x //= 10` to remove the last digit of the initial integer.\n",
    "    - We repeat the above until `x == rev` (even # of digits) or `x == rev//10` (odd # of digits).\n",
    "- This still runs in O(n) time however since we are only reversing half of the integer and additionally don't have to do any string operations, this does run faster."
   ]
  },
  {
   "cell_type": "code",
   "execution_count": 2,
   "metadata": {},
   "outputs": [
    {
     "name": "stdout",
     "output_type": "stream",
     "text": [
      "121: True\n",
      "-121: False\n",
      "10: False\n"
     ]
    }
   ],
   "source": [
    "class Solution:\n",
    "# solution2 directly manipulates the integer with the modulos operator to reverse it, then compares if it is the same backwards\n",
    "    # still runs in O(n) time however since we only reverse half of the int (because the other half should be the same) it runs faster than solution1\n",
    "    def isPalindrome(self, x: int) -> bool:\n",
    "        # if x is negative OR x is only 1 digit, return False\n",
    "        if x < 0 or (x and x % 10 == 0):\n",
    "            return False\n",
    "\n",
    "        # get reverse of x - loop until rev matches x\n",
    "        # for each loop, rev*10 to make room for a new ones digit\n",
    "        # 12345\n",
    "        # revs:\n",
    "        # 0\n",
    "        # 0*10 + 12345%10 = 0 + 5 \n",
    "        # 5*10 + 1234%10 = 0 + 5\n",
    "        # 54*10 + 123%10 = 0 + 5\n",
    "        # 543*10 + 12%10 = 0 + 5\n",
    "        rev = 0\n",
    "        while rev < x:\n",
    "            rev = rev * 10 + x % 10\n",
    "            x //= 10\n",
    "\n",
    "        if x == rev or x == rev//10:\n",
    "            return True\n",
    "        return False\n",
    "    \n",
    "solution = Solution()\n",
    "print(f\"121: {solution.isPalindrome(121)}\")\n",
    "print(f\"-121: {solution.isPalindrome(-121)}\")\n",
    "print(f\"10: {solution.isPalindrome(10)}\")"
   ]
  }
 ],
 "metadata": {
  "kernelspec": {
   "display_name": "Python 3",
   "language": "python",
   "name": "python3"
  },
  "language_info": {
   "codemirror_mode": {
    "name": "ipython",
    "version": 3
   },
   "file_extension": ".py",
   "mimetype": "text/x-python",
   "name": "python",
   "nbconvert_exporter": "python",
   "pygments_lexer": "ipython3",
   "version": "3.12.1"
  }
 },
 "nbformat": 4,
 "nbformat_minor": 2
}
