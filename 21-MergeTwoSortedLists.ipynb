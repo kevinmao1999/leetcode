{
 "cells": [
  {
   "cell_type": "markdown",
   "metadata": {},
   "source": [
    "# 21. Merge Two Sorted Lists\n",
    "You are given the heads of two sorted linked lists list1 and list2.\\\n",
    "Merge the two lists into one sorted list. The list should be made by splicing together the nodes of the first two lists.\\\n",
    "Return the head of the merged linked list.\n",
    "\n",
    "### Example 1:\n",
    "Input: `list1 = [1,2,4]`, `list2 = [1,3,4]`\\\n",
    "Output: `[1,1,2,3,4,4]`\n",
    "\n",
    "### Example 2:\n",
    "Input: `list1 = []`, `list2 = []`\\\n",
    "Output: `[]`\n",
    "\n",
    "### Example 3:\n",
    "Input: `list1 = []`, `list2 = [0]`\\\n",
    "Output: `[0]`\n",
    "\n",
    "### Constraints:\n",
    "The number of nodes in both lists is in the range `[0, 50]`.\\\n",
    "`-100 <= Node.val <= 100`\\\n",
    "Both list1 and list2 are sorted in non-decreasing order.\n",
    "\n"
   ]
  },
  {
   "cell_type": "markdown",
   "metadata": {},
   "source": [
    "## Solution1"
   ]
  },
  {
   "cell_type": "code",
   "execution_count": null,
   "metadata": {},
   "outputs": [
    {
     "name": "stdout",
     "output_type": "stream",
     "text": [
      "a: \"<__main__.ListNode object at 0x000001C9F7C616D0>\"\n",
      "b: \"<__main__.ListNode object at 0x000001C9F7C3A450>\"\n",
      "empty: \"None\"\n"
     ]
    }
   ],
   "source": [
    "from typing import Optional\n",
    "\n",
    "# definition for singly-linked list\n",
    "class ListNode:\n",
    "    def __init__(self, val=0, next=None):\n",
    "        self.val = val\n",
    "        self.next = next\n",
    "\n",
    "# given an array of values create a singly-linked list using the above implementation\n",
    "def create_linked_list(values):\n",
    "    if not values:\n",
    "        return None\n",
    "    \n",
    "    head = ListNode(values[0]) \n",
    "    current = head\n",
    "\n",
    "    for val in values[1:]:\n",
    "        current.next = ListNode(val)\n",
    "        current = current.next\n",
    "    \n",
    "    return head\n",
    "\n",
    "class Solution:\n",
    "    def mergeTwoLists(self, list1: Optional[ListNode], list2: Optional[ListNode]) -> Optional[ListNode]:\n",
    "        index1 = list1\n",
    "        index2 = list2\n",
    "        newList = None\n",
    "        curr = None\n",
    "\n",
    "        # continue looping while both lists still have values\n",
    "        while index1 and index2:\n",
    "            # create a new node with the smallest value from either list and iterate list\n",
    "            if index1.val < index2.val:\n",
    "                new = ListNode(index1.val)\n",
    "                index1 = index1.next\n",
    "            else:\n",
    "                new = ListNode(index2.val)\n",
    "                index2 = index2.next\n",
    "            # with new node, either set newList or add to next element\n",
    "            if newList:\n",
    "                curr.next = new\n",
    "            else:\n",
    "                newList = new\n",
    "            curr = new\n",
    "\n",
    "        # if only one list still has values, tack them onto the back of newList\n",
    "        while index1:\n",
    "            new = ListNode(index1.val)\n",
    "            if newList:\n",
    "                curr.next = new\n",
    "            else:\n",
    "                newList = new\n",
    "            curr = new\n",
    "            index1 = index1.next\n",
    "        while index2:\n",
    "            new = ListNode(index2.val)\n",
    "            if newList:\n",
    "                curr.next = new\n",
    "            else:\n",
    "                newList = new\n",
    "            curr = new\n",
    "            index2 = index2.next\n",
    "        return newList\n",
    "\n",
    "\n",
    "list1a = create_linked_list([1, 2, 4])\n",
    "list2a = create_linked_list([1, 3, 4])\n",
    "list1b = create_linked_list([1, 5, 8])\n",
    "list2b = create_linked_list([1, 2, 3, 7])\n",
    "emptyList = create_linked_list([])\n",
    "\n",
    "solution = Solution()\n",
    "print(f\"a: \\\"{solution.mergeTwoLists(list1a, list2a)}\\\"\")\n",
    "print(f\"b: \\\"{solution.mergeTwoLists(list1b, list2b)}\\\"\")\n",
    "print(f\"empty: \\\"{solution.mergeTwoLists(emptyList, emptyList)}\\\"\")\n"
   ]
  },
  {
   "cell_type": "markdown",
   "metadata": {},
   "source": []
  },
  {
   "cell_type": "code",
   "execution_count": null,
   "metadata": {},
   "outputs": [],
   "source": []
  }
 ],
 "metadata": {
  "kernelspec": {
   "display_name": "Python 3",
   "language": "python",
   "name": "python3"
  },
  "language_info": {
   "codemirror_mode": {
    "name": "ipython",
    "version": 3
   },
   "file_extension": ".py",
   "mimetype": "text/x-python",
   "name": "python",
   "nbconvert_exporter": "python",
   "pygments_lexer": "ipython3",
   "version": "3.12.1"
  }
 },
 "nbformat": 4,
 "nbformat_minor": 2
}
